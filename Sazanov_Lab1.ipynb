{
 "cells": [
  {
   "cell_type": "code",
   "execution_count": 1,
   "metadata": {
    "colab": {
     "base_uri": "https://localhost:8080/",
     "height": 34
    },
    "id": "eEGdYzlU4SmG",
    "outputId": "da84523f-196c-435e-d0d7-0a7431d5d650"
   },
   "outputs": [
    {
     "name": "stdout",
     "output_type": "stream",
     "text": [
      "Populating the interactive namespace from numpy and matplotlib\n"
     ]
    }
   ],
   "source": [
    "import numpy as np\n",
    "import networkx as nx\n",
    "from collections import defaultdict\n",
    "import time\n",
    "import ctypes as C\n",
    "import ast\n",
    "\n",
    "%matplotlib notebook\n",
    "import matplotlib.pyplot as plt\n",
    "%pylab inline"
   ]
  },
  {
   "cell_type": "markdown",
   "metadata": {
    "id": "sD1wC1Wc4YHf"
   },
   "source": [
    "## Генераторы графов"
   ]
  },
  {
   "cell_type": "code",
   "execution_count": 2,
   "metadata": {
    "id": "grFeMbi25Zi3"
   },
   "outputs": [],
   "source": [
    "# функция возвращает случайный простой граф в моделе Gnp \n",
    "# вероятность ребра p = 2*m/(n*(n-1)), чтобы среденее число ребер было = m\n",
    "# структура хранения - список смежности, реализованный через словарь (хеш-таблица) списков \n",
    "# ребра представляют собой tuple двух вершин\n",
    "def get_random_simple_Gnp_graph(n, m, seed=42):\n",
    "  edge_p = 2*m/(n*(n-1))\n",
    "  g = nx.random_graphs.fast_gnp_random_graph(n,edge_p,seed)\n",
    "  \n",
    "  return nx.convert.to_dict_of_lists(g)"
   ]
  },
  {
   "cell_type": "code",
   "execution_count": 3,
   "metadata": {
    "id": "ENCnp0CN-veo"
   },
   "outputs": [],
   "source": [
    "# функция возвращает случайный ориентированный граф в моделе Gnp \n",
    "# вероятность ребра p = m/(n*(n-1)), чтобы среденее число ребер было = m\n",
    "# структура хранения - список смежности, реализованный через словарь (хеш-таблица) списков \n",
    "# ребра представляют собой tuple двух вершин\n",
    "def get_random_Gnp_digraph(n, m, seed=42):\n",
    "  edge_p = m/(n*(n-1))\n",
    "  g = nx.random_graphs.fast_gnp_random_graph(n,edge_p,seed,True)\n",
    "  \n",
    "  return nx.convert.to_dict_of_lists(g)"
   ]
  },
  {
   "cell_type": "code",
   "execution_count": 4,
   "metadata": {
    "id": "RT_M3XlFLMnS"
   },
   "outputs": [],
   "source": [
    "# функция возвращает случайный простой граф в моделе Gnm \n",
    "# структура хранения - список смежности, реализованный через словарь (хеш-таблица) списков \n",
    "# ребра представляют собой tuple двух вершин\n",
    "def get_random_simple_Gnm_graph(n, m, seed=42):\n",
    "  g = nx.random_graphs.gnm_random_graph(n,m,seed)\n",
    "\n",
    "  return nx.convert.to_dict_of_lists(g)"
   ]
  },
  {
   "cell_type": "code",
   "execution_count": 5,
   "metadata": {
    "id": "6bTLnJy9LiwE"
   },
   "outputs": [],
   "source": [
    "# функция возвращает случайный ориентированный граф в моделе Gnm\n",
    "# структура хранения - список смежности, реализованный через словарь (хеш-таблица) списков \n",
    "# ребра представляют собой tuple двух вершин\n",
    "def get_random_Gnm_digraph(n, m, seed=42):\n",
    "  g = nx.random_graphs.gnm_random_graph(n,m,seed,True)\n",
    "\n",
    "  return nx.convert.to_dict_of_lists(g)"
   ]
  },
  {
   "cell_type": "code",
   "execution_count": 6,
   "metadata": {
    "id": "qXpwNkSmUvPN"
   },
   "outputs": [],
   "source": [
    "# функция возвращает связный ориентированный Ейлеров граф\n",
    "# в графе n вершин, k - параметр, от которого зависти генерация\n",
    "# структура хранения - список смежности, реализованный через словарь (хеш-таблица) списков \n",
    "# ребра представляют собой tuple двух вершин\n",
    "def get_Euler_digraph(n, k=8):\n",
    "  in_degs, out_degs = [k]*n, [k]*n \n",
    "  G = nx.generators.directed_havel_hakimi_graph(in_degs, out_degs)\n",
    "  WCCs = list(nx.algorithms.components.weakly_connected_components(G))\n",
    "  if len(WCCs) > 1:\n",
    "    connecting_nodes = []\n",
    "    for WCC in WCCs:\n",
    "      some_vertex_of_WCC = next(iter(WCC))\n",
    "      connecting_nodes.append(some_vertex_of_WCC)\n",
    "    for i in range(1, len(connecting_nodes)):\n",
    "      G.add_edge(connecting_nodes[i-1],connecting_nodes[i])\n",
    "      G.add_edge(connecting_nodes[i],connecting_nodes[i-1])\n",
    "    \n",
    "  return nx.convert.to_dict_of_lists(G)"
   ]
  },
  {
   "cell_type": "code",
   "execution_count": 7,
   "metadata": {
    "id": "jlCdHUkLCrUj"
   },
   "outputs": [],
   "source": [
    "# утилитарная функция, переводящая таплы вида (1, 0, 0, 1)\n",
    "# в числа, интерпетируя эту запись как число в двоичной записи\n",
    "# эта функция нужна для следующей функции\n",
    "def get_index_from_binary(tup):\n",
    "  n = len(tup)\n",
    "  mult = 1\n",
    "  res = 0\n",
    "  for i in range(n):\n",
    "    res += tup[i]*mult\n",
    "    mult *= 2\n",
    "  return res\n",
    "\n",
    "# функция возвращает связный ориентированный регулярный Ейлеров граф\n",
    "# входные и выходные степени всех вершин совпадают и равны half_dim\n",
    "# число вершин равно 4**half_dim\n",
    "# структура хранения - список смежности, реализованный через словарь (хеш-таблица) списков \n",
    "# ребра представляют собой tuple двух вершин\n",
    "def get_hypercube_digraph(half_dim):\n",
    "  G = nx.generators.hypercube_graph(half_dim*2)\n",
    "  directed_G = nx.DiGraph()\n",
    "  Euler_circuit_G = nx.algorithms.eulerian_circuit(G)\n",
    "  for (u,v) in Euler_circuit_G:\n",
    "    directed_G.add_edge(get_index_from_binary(u), get_index_from_binary(v))\n",
    "  return nx.convert.to_dict_of_lists(directed_G)"
   ]
  },
  {
   "cell_type": "markdown",
   "metadata": {
    "id": "iVqQjVxgfnzk"
   },
   "source": [
    "# Алгоритмы сортировки"
   ]
  },
  {
   "cell_type": "code",
   "execution_count": 8,
   "metadata": {},
   "outputs": [],
   "source": [
    "bucket = C.CDLL('./src/BucketSort/BucketSort.so')\n",
    "bucket.bucket_sort.restype = C.POINTER(C.c_uint64)\n",
    "bucket.bucket_sort.argtypes = [C.POINTER(C.c_uint64), C.c_uint64, ]\n",
    "\n",
    "radix = C.CDLL('./src/RadixSort/RadixSort.so')\n",
    "radix.radix_sort.restype = C.POINTER(C.c_uint64)\n",
    "radix.radix_sort.argtypes = [C.POINTER(C.c_uint64), C.c_uint64, ]\n",
    "\n",
    "quick = C.CDLL('./src/QuickSort/QuickSort.so')\n",
    "quick.c_quick_sort.restype = C.POINTER(C.c_uint64)\n",
    "quick.c_quick_sort.argtypes = [C.POINTER(C.c_uint64), C.c_uint64, ]"
   ]
  },
  {
   "cell_type": "code",
   "execution_count": 9,
   "metadata": {
    "id": "lfxzEQsYfs-C"
   },
   "outputs": [],
   "source": [
    "# поразрядная сортировка\n",
    "# возвращает итоговую перестановку эелементов массива A\n",
    "# для того, чтобы можно было переставить элементы в любом другом массиве\n",
    "def radix_argsort(A):\n",
    "    arr = (C.c_uint64 * len(A))(*A)\n",
    "    res = radix.radix_sort(C.cast(C.byref(arr), C.POINTER(C.c_uint64)), len(A))\n",
    "    return [res[i] for i in range(len(A))]"
   ]
  },
  {
   "cell_type": "code",
   "execution_count": 10,
   "metadata": {
    "id": "kaW51gQBf99y"
   },
   "outputs": [],
   "source": [
    "# карманная сортировка\n",
    "# возвращает итоговую перестановку эелементов массива A\n",
    "# для того, чтобы можно было переставить элементы в любом другом массиве\n",
    "def bucket_argsort(A):\n",
    "    arr = (C.c_uint64 * len(A))(*A)\n",
    "    res = bucket.bucket_sort(C.cast(C.byref(arr), C.POINTER(C.c_uint64)), len(A))\n",
    "    return [res[i] for i in range(len(A))]"
   ]
  },
  {
   "cell_type": "code",
   "execution_count": 11,
   "metadata": {
    "id": "2Xrh676Tf-WC"
   },
   "outputs": [],
   "source": [
    "# быстрая сортировка\n",
    "# возвращает итоговую перестановку эелементов массива A\n",
    "# для того, чтобы можно было переставить элементы в любом другом массиве\n",
    "def quick_argsort(A):\n",
    "    arr = (C.c_uint64 * len(A))(*A)\n",
    "    res = quick.c_quick_sort(C.cast(C.byref(arr), C.POINTER(C.c_uint64)), len(A))\n",
    "    return [res[i] for i in range(len(A))]"
   ]
  },
  {
   "cell_type": "markdown",
   "metadata": {
    "id": "-2qavQiBBFv7"
   },
   "source": [
    "# Алгоритмы для поиска мостов"
   ]
  },
  {
   "cell_type": "code",
   "execution_count": 12,
   "metadata": {},
   "outputs": [],
   "source": [
    "def adj_list_to_byte(adj_list):\n",
    "    adj_list_string = ''\n",
    "    for vertex in adj_list:\n",
    "        adj_list_string+='('\n",
    "        count=0\n",
    "        for adjacent in adj_list[vertex]:\n",
    "            adj_list_string+=str(adjacent)+','\n",
    "            count+=1\n",
    "        if count > 0:\n",
    "            adj_list_string=adj_list_string[:-1]\n",
    "        adj_list_string+=')'\n",
    "    print(adj_list_string)\n",
    "    return adj_list_string.encode('utf-8')"
   ]
  },
  {
   "cell_type": "markdown",
   "metadata": {},
   "source": [
    "**Мосты на C/C++ начали крашиться при вызове из DLL. С идентичными входными данными работали нормально, если запускать из экзешника. Не осталось времени разобраться в чем дело, просто переписал на Питоне.**"
   ]
  },
  {
   "cell_type": "code",
   "execution_count": 13,
   "metadata": {},
   "outputs": [],
   "source": [
    "bridge = C.CDLL('./so/Bridges.so')\n",
    "\n",
    "bridge.compute_bridges_determ.restype = C.c_char_p\n",
    "bridge.compute_bridges_determ.argtypes = [C.c_char_p, C.c_uint64, ]\n",
    "\n",
    "bridge.compute_bridges_rand.restype = C.c_char_p\n",
    "bridge.compute_bridges_rand.argtypes = [C.c_char_p, C.c_uint64, ]\n",
    "\n",
    "bridge.compute_2bridges_rand.restype = C.c_char_p\n",
    "bridge.compute_2bridges_rand.argtypes = [C.c_char_p, C.c_uint64, C.c_int]"
   ]
  },
  {
   "cell_type": "code",
   "execution_count": 14,
   "metadata": {
    "id": "3CssyQPh_L2i"
   },
   "outputs": [],
   "source": [
    "# детерминированный алгоритм для поиска мостов\n",
    "# на вход поступает граф представленный списком смежности\n",
    "# саписок представлен как словарь(хеш-таблица) списков\n",
    "# выход представляет собой список ребер, являющихся мостами \n",
    "#def compute_bridges_determ(adj_list):\n",
    "#    adj_list_char_str = adj_list_to_byte(adj_list)\n",
    "#    result = bridge.compute_bridges_determ(adj_list_char_str, len(adj_list_char_str))\n",
    "#    return result.decode('utf-8')\n",
    "\n",
    "class DetermBridges:\n",
    "    def __init__(self):\n",
    "        self.timer = 0\n",
    "        self.history = []\n",
    "        self.bridges = []\n",
    "        self.colors = []\n",
    "        self.M = []\n",
    "        self.entry = []\n",
    "        self.adj_list = {}\n",
    "    \n",
    "    def bridges_determ_dfs(self, vertex):\n",
    "        self.colors[vertex] = 'gray'\n",
    "        self.history.append(vertex)\n",
    "        self.timer += 1\n",
    "        self.entry[vertex] = self.timer\n",
    "        for adjacent in self.adj_list[vertex]:\n",
    "            if (self.colors[adjacent] == 'white'):\n",
    "                self.bridges_determ_dfs(adjacent)\n",
    "                self.M[vertex] = min(self.M[vertex], self.M[adjacent])\n",
    "                if (self.M[adjacent] > self.entry[vertex]):\n",
    "                    if (vertex < adjacent):\n",
    "                        self.bridges.append((vertex, adjacent))\n",
    "                    else:\n",
    "                        self.bridges.append((adjacent, vertex))\n",
    "            elif len(self.history) < 2 or self.history[-2] != adjacent:\n",
    "                self.M[vertex] = min(self.M[vertex], self.entry[adjacent])\n",
    "        self.colors[vertex] = 'black'\n",
    "        self.history.pop()\n",
    "\n",
    "    def determ_bridges(self, adj_list):\n",
    "        self.timer = 0\n",
    "        self.history = []\n",
    "        self.bridges = []\n",
    "        self.colors = ['white' for i in adj_list]\n",
    "        self.M = [float('inf') for i in adj_list]\n",
    "        self.entry = [0 for i in adj_list]\n",
    "        self.adj_list = adj_list\n",
    "        for i in adj_list:\n",
    "            if self.colors[i] == 'white':\n",
    "                self.bridges_determ_dfs(i)\n",
    "        return self.bridges\n",
    "    \n",
    "def compute_bridges_determ(adj_list):\n",
    "    determ = DetermBridges()\n",
    "    return determ.determ_bridges(adj_list)"
   ]
  },
  {
   "cell_type": "code",
   "execution_count": 15,
   "metadata": {},
   "outputs": [],
   "source": [
    "import numpy as np\n",
    "import random as rd\n",
    "\n",
    "class RandomBridges:\n",
    "\n",
    "    def __init__(self):\n",
    "        self.adj_list = {}\n",
    "        self.bridges = []\n",
    "        self.edges = []\n",
    "        self.colors = []\n",
    "        self.history = []\n",
    "        self.samples = {}\n",
    "        self.EDGE = 0\n",
    "        self.SAMPLE = 1\n",
    "\n",
    "    def sampling_dfs(self, vertex):\n",
    "        self.colors[vertex] = 'gray'\n",
    "        self.history.append(vertex)\n",
    "        for adjacent in self.adj_list[vertex]:\n",
    "            if self.colors[adjacent] == 'white':\n",
    "                self.sampling_dfs(adjacent)\n",
    "            elif len(self.history) < 2 or self.history[-2] != adjacent:\n",
    "                rand = np.uint64(rd.randint(0, np.iinfo(np.uint64).max))\n",
    "                self.samples[vertex][adjacent] = rand;\n",
    "                self.samples[adjacent][vertex] = rand;\n",
    "        self.colors[vertex] = 'black';\n",
    "        self.history.pop()\n",
    "\n",
    "        if len(self.history) > 0:\n",
    "            parent = self.history[-1]\n",
    "            parent_edge_weight = np.uint64(0)\n",
    "            for adjacent in self.adj_list[vertex]:\n",
    "                if (adjacent != parent):\n",
    "                    parent_edge_weight ^= self.samples[vertex][adjacent]\n",
    "            self.samples[vertex][parent] = parent_edge_weight\n",
    "            self.samples[parent][vertex] = parent_edge_weight\n",
    "        \n",
    "        \n",
    "    def launch_sampling(self):\n",
    "        self.colors = ['white' for i in self.adj_list]\n",
    "        for vertex in self.adj_list:\n",
    "            if self.colors[vertex] == 'white':\n",
    "                self.sampling_dfs(vertex)\n",
    "        \n",
    "    def find_bridges(self, adj_list):\n",
    "        self.adj_list = adj_list\n",
    "        for i in range(len(adj_list)):\n",
    "            self.samples[i] = {}\n",
    "        self.launch_sampling()\n",
    "        for first_key in self.adj_list:\n",
    "            for second_key in self.adj_list[first_key]:\n",
    "                if (second_key, first_key) not in self.bridges and self.samples[first_key][second_key] == 0:\n",
    "                    self.bridges.append((first_key, second_key))\n",
    "        return self.bridges\n",
    "    \n",
    "    def find_2bridges(self, adj_list, sort_fun):\n",
    "        self.adj_list = adj_list\n",
    "        for i in range(len(adj_list)):\n",
    "            self.samples[i] = {}\n",
    "        self.launch_sampling()\n",
    "        for first_key in self.adj_list:\n",
    "            for second_key in self.adj_list[first_key]:\n",
    "                if (second_key, first_key) not in [edge[self.EDGE] for edge in self.edges]:\n",
    "                    self.edges.append([(first_key, second_key), self.samples[first_key][second_key]])\n",
    "        samples_list = [edge[self.SAMPLE] for edge in self.edges]\n",
    "        sorted_args = sort_fun(samples_list)\n",
    "        cluster_size = 0\n",
    "        current_cluster = 0\n",
    "        for i in range(len(sorted_args) - 1):\n",
    "            cluster_size+=1\n",
    "            if self.edges[sorted_args[i]][self.SAMPLE] != self.edges[sorted_args[i+1]][self.SAMPLE]:\n",
    "                if (cluster_size > 1):\n",
    "                    self.bridges.append([])\n",
    "                    j = i - cluster_size + 1\n",
    "                    while (j < i):\n",
    "                        self.bridges[current_cluster].append((self.edges[sorted_args[j]][self.EDGE]))\n",
    "                        j+=1\n",
    "                    cluster_size = 0\n",
    "                    current_cluster+=1\n",
    "        return self.bridges"
   ]
  },
  {
   "cell_type": "code",
   "execution_count": 16,
   "metadata": {
    "id": "bwuVGx16C0J6"
   },
   "outputs": [],
   "source": [
    "# рандомизированный алгоритм для поиска мостов\n",
    "# на вход поступает граф представленный списком смежности\n",
    "# саписок представлен как словарь(хеш-таблица) списков \n",
    "# выход представляет собой список ребер, являющихся мостами с большой вероятностью\n",
    "def compute_bridges_rand(adj_list):\n",
    "    rand = RandomBridges()\n",
    "    return rand.find_bridges(adj_list)"
   ]
  },
  {
   "cell_type": "code",
   "execution_count": 17,
   "metadata": {
    "id": "Bimj4itwJ0NR"
   },
   "outputs": [],
   "source": [
    "# рандомизированный алгоритм для поиска 2-мостов\n",
    "#\n",
    "# на вход поступает граф представленный списком смежности и алгоритм сортировки для меток на ребрах\n",
    "# саписок представлен как словарь(хеш-таблица) списков \n",
    "#\n",
    "# выходом алгоритма является список списков ребер\n",
    "# в каждом списке любая пара ребер должна с высокой вероятностью образовывать 2-мост\n",
    "# например, если выходом является спискок [[e1, e2, e3],[e4, e5]]\n",
    "# то с высокой вероятностью 2-мостами будут пары ребер: (e1,e2), (e1,e3), (e2,e3), (e4,e5)\n",
    "# ребра здесь это пары вершин типа e1 = (1,2)\n",
    "def compute_2bridges_rand(adj_list, sort_fun):\n",
    "    rand = RandomBridges()\n",
    "    return rand.find_2bridges(adj_list, sort_fun)"
   ]
  },
  {
   "cell_type": "markdown",
   "metadata": {
    "id": "9a0jhn8IUcSF"
   },
   "source": [
    "# Эйлеровы циклы"
   ]
  },
  {
   "cell_type": "code",
   "execution_count": 18,
   "metadata": {
    "id": "dCtrqokbUmvf"
   },
   "outputs": [],
   "source": [
    "def DFS_recursive(graph, S, colors, black_order):\n",
    "    colors[S] = 'g'\n",
    "    \n",
    "    for adjacent in graph[S]:\n",
    "        if (colors[adjacent] == 'w'):\n",
    "            DFS_recursive(graph, adjacent, colors, black_order)\n",
    "            \n",
    "    colors[S] = 'b'\n",
    "    black_order.append(S)\n",
    "    \n",
    "    \n",
    "def DFS_wrapper(graph):\n",
    "    colors = []\n",
    "    black_order = []\n",
    "    \n",
    "    for i in range(len(graph)):\n",
    "        colors.append('w')\n",
    "    DFS_recursive(graph, next(iter(graph)), colors, black_order)\n",
    "    return black_order\n",
    "    \n",
    "    \n",
    "def convert_to_edge_graph(graph):\n",
    "    edges_list = []\n",
    "    \n",
    "    for vertex in graph:\n",
    "        for adjacent in graph[vertex]:\n",
    "            edges_list.append((vertex, adjacent))\n",
    "            \n",
    "    edge_graph = {}\n",
    "    \n",
    "    for edge in range(len(edges_list)):\n",
    "        edge_graph[edge] = []\n",
    "        for potential_adjacent in range(len(edges_list)):\n",
    "            if edges_list[edge][1] == edges_list[potential_adjacent][0]:\n",
    "                edge_graph[edge].append(potential_adjacent)\n",
    "                \n",
    "    return edges_list, edge_graph\n",
    "# функция вычисляющая эйлеров обход для данного ориентированного графа G \n",
    "# цикл кодируется списком ребер, например:\n",
    "# (1,2), (2,4), (4, 7), (7,1)\n",
    "#\n",
    "def compute_Euler_circuit_digraph(adj_list):\n",
    "  # тут должен быть Ваш код\n",
    "  #G = nx.DiGraph(adj_list)\n",
    "  #return list(nx.algorithms.eulerian_circuit(G))\n",
    "    graph = adj_list\n",
    "    edges_list, edge_graph = convert_to_edge_graph(graph)\n",
    "    cycle = []\n",
    "    for edge_index in DFS_wrapper(edge_graph):\n",
    "        cycle.insert(0, edges_list[edge_index])\n",
    "    return cycle\n",
    "\n",
    "# функция вычисляющая эйлеров обход для данного простого графа G \n",
    "# цикл кодируется списком ребер, например:\n",
    "# (1,2), (2,4), (4, 7), (7,1)\n",
    "#\n",
    "#def compute_Euler_circuit_simple(adj_list):\n",
    "#  # тут должен быть Ваш код\n",
    "#  G = nx.Graph(adj_list)\n",
    "#  return list(nx.algorithms.eulerian_circuit(G))"
   ]
  },
  {
   "cell_type": "markdown",
   "metadata": {
    "id": "YayReqtzNMN8"
   },
   "source": [
    "# Арифметика в конечных кольцах и полях"
   ]
  },
  {
   "cell_type": "code",
   "execution_count": 19,
   "metadata": {},
   "outputs": [],
   "source": [
    "invert = C.CDLL('./so/Invert.so')\n",
    "\n",
    "invert.invert_in_Zp_Euclead.restype = C.c_uint64\n",
    "invert.invert_in_Zp_Euclead.argtypes = [C.c_uint64, C.c_uint64, ]\n",
    "\n",
    "invert.invert_in_Zp_Ferma.restype = C.c_uint64\n",
    "invert.invert_in_Zp_Ferma.argtypes = [C.c_uint64, C.c_uint64, ]"
   ]
  },
  {
   "cell_type": "code",
   "execution_count": 20,
   "metadata": {
    "id": "lmhOvc-rNS0c"
   },
   "outputs": [],
   "source": [
    "# эта функция инвертирует x в Zp с помощью алгоритма Евклида\n",
    "# выходом является целое число y, такое что\n",
    "# 1) 0 < y < p \n",
    "# 2) (xy) mod p = 1 \n",
    "# если число невозможно инвертировать, функция возвращает 0\n",
    "def invert_in_Zp_Euclead(p,x):\n",
    "    return invert.invert_in_Zp_Euclead(p, x)"
   ]
  },
  {
   "cell_type": "code",
   "execution_count": 21,
   "metadata": {
    "id": "e5XLlM4oOGcY"
   },
   "outputs": [],
   "source": [
    "# эта функция инвертирует x в Zp с помощью малой теоремы Ферма и алгоритма быстрого возведения в степень\n",
    "# выходом является целое число y, такое что\n",
    "# 1) 0 < y < p \n",
    "# 2) (xy) mod p = 1 \n",
    "# если число невозможно инвертировать, функция возвращает 0\n",
    "def invert_in_Zp_Ferma(p,x):\n",
    "    return invert.invert_in_Zp_Ferma(p, x)"
   ]
  },
  {
   "cell_type": "markdown",
   "metadata": {
    "id": "cC_5grG8GX1k"
   },
   "source": [
    "# Стресс тесты"
   ]
  },
  {
   "cell_type": "code",
   "execution_count": 22,
   "metadata": {
    "id": "M2uTC7okGdcs"
   },
   "outputs": [],
   "source": [
    "def stress_test_bridges_determ(n, m, iterations_num=1000):\n",
    "  for i in range(iterations_num):\n",
    "    G = get_random_simple_Gnp_graph(n, m, i)\n",
    "    briges_test = compute_bridges_determ(G)\n",
    "    bridges_true = set(nx.algorithms.bridges(nx.Graph(G)))\n",
    "    diff = list(bridges_true.symmetric_difference(briges_test))\n",
    "    if len(diff) > 0:\n",
    "      raise Exception(f\"Неверное решение в детерминированном алгоритме поиска мостов, n: {n}, m: {m}, seed: {i}\")\n",
    "  print(f\"Стресс тест для детерминированного поиска мостов пройден!, n: {n}, m: {m}, iterations_num: {iterations_num}\")\n",
    "    "
   ]
  },
  {
   "cell_type": "code",
   "execution_count": 23,
   "metadata": {
    "id": "GZL4RLYiPAds"
   },
   "outputs": [],
   "source": [
    "def stress_test_bridges_rand(n, m, iterations_num=1000):\n",
    "  exp_err = m * (1/ (2**64))\n",
    "  for i in range(iterations_num):\n",
    "    G = get_random_simple_Gnp_graph(n, m, i)\n",
    "    briges_test = compute_bridges_determ(G)\n",
    "    bridges_true = set(nx.algorithms.bridges(nx.Graph(G)))\n",
    "    diff = list(bridges_true.symmetric_difference(briges_test))\n",
    "    if len(diff) > exp_err:\n",
    "      raise Exception(f\"Число ошибок в рандомизированном алгоритме поиска мостов превышено, n: {n}, m: {m}, errors_num: {len(diff)}, seed: {i}\")\n",
    "  print(f\"Стресс тест для рандомизированного поиска мостов пройден!, n: {n}, m: {m}, iterations_num: {iterations_num}\")\n",
    "    "
   ]
  },
  {
   "cell_type": "code",
   "execution_count": 24,
   "metadata": {
    "id": "LKOqFG31Nfje"
   },
   "outputs": [],
   "source": [
    "def stress_test_finite_fields(p = 2**61-1, iterations_num = 100000):\n",
    "  for i in range(iterations_num):\n",
    "    x = numpy.random.randint(1, p)\n",
    "    inverse_Euclead_x = invert_in_Zp_Euclead(p,x)\n",
    "    inverse_Ferma_x = invert_in_Zp_Ferma(p,x)\n",
    "    if( np.gcd(p,x) == 1 ):\n",
    "      if (x * inverse_Euclead_x - 1) % p != 0:\n",
    "        raise Exception(f\"Неправильное инвертирование алгоритмом Евклида, p: {p}, x: {x}\")\n",
    "      if (x * inverse_Ferma_x - 1) % p != 0:\n",
    "        raise Exception(f\"Неправильное инвертирование алгоритмом быстрого возведения в степень, p: {p}, x: {x}\")\n",
    "    else :\n",
    "      if inverse_Euclead_x != 0:\n",
    "        raise Exception(f\"Неправильное инвертирование алгоритмом Евклида, p: {p}, x: {x}\")\n",
    "      if inverse_Ferma_x != 0:\n",
    "        raise Exception(f\"Неправильное инвертирование алгоритмом быстрого возведения в степень, p: {p}, x: {x}\")  \n",
    "  print(f\"Стресс тест для арифметики в конечных полях пройден!, p: {p}, iterations_num: {iterations_num}\")"
   ]
  },
  {
   "cell_type": "code",
   "execution_count": 25,
   "metadata": {
    "id": "fwa1LtushrLG"
   },
   "outputs": [],
   "source": [
    "def stress_test_2bridges_rand(n, m, sort, iterations_num=1000):\n",
    "  exp_err = (m*(m-1)/2) * (1/ (2**64))\n",
    "  for iteration in range(iterations_num):\n",
    "    err_num = 0\n",
    "    G = nx.Graph(get_random_simple_Gnp_graph(n, m, iteration))\n",
    "    bridges_test = compute_2bridges_rand(G,sort)\n",
    "    for edge_group in bridges_test:\n",
    "      for e1 in range(len(edge_group)):\n",
    "        for e2 in range(e1+1,len(edge_group)):\n",
    "          G_with_deleted_2bridge = G.copy()\n",
    "          G_with_deleted_2bridge.remove_edge(*edge_group[e1])\n",
    "          G_with_deleted_2bridge.remove_edge(*edge_group[e2])\n",
    "          if nx.connected.number_connected_components(G) == nx.connected.number_connected_components(G_with_deleted_2bridge):\n",
    "            ++err_num\n",
    "    if err_num > exp_err:\n",
    "      raise Exception(f\"Число ошибок в рандомизированном алгоритме поиска мостов превышено, n: {n}, m: {m}, errors_num: {err_num}, sort: {sort}, seed: {iteration}\")\n",
    "  print(f\"Стресс тест для рандомизированного поиска мостов пройден!, n: {n}, m: {m}, , sort: {sort}, iterations_num: {iterations_num}\")"
   ]
  },
  {
   "cell_type": "code",
   "execution_count": 26,
   "metadata": {
    "id": "krNafNhmKdeF"
   },
   "outputs": [],
   "source": [
    "def test_Euler_circuit(G, test_circuit):\n",
    "  edges_dict = {}\n",
    "  m = 0\n",
    "  for (v,neib) in G.items():\n",
    "    for u in neib:\n",
    "      edges_dict[(v,u)] = False\n",
    "      m += 1\n",
    "\n",
    "  l = len(test_circuit)\n",
    "  if m != l:\n",
    "    return False\n",
    "\n",
    "  for i in range(1,m):\n",
    "    if test_circuit[i-1][1] != test_circuit[i][0]:\n",
    "      return False\n",
    "  if test_circuit[l-1][1] != test_circuit[0][0]:\n",
    "    return False\n",
    "\n",
    "  for e in test_circuit:\n",
    "    if edges_dict.get(e, True) == True:\n",
    "      return False\n",
    "    else:\n",
    "      edges_dict[e] = True\n",
    "    \n",
    "  return True\n",
    "\n",
    "# max_n должно быть строго больше чем 10\n",
    "def stress_test_Euler_circuit_digraph(max_n, iterations_num=1000):\n",
    "  for iteration in range(iterations_num):\n",
    "    n = np.random.randint(10, max_n)\n",
    "    k = np.floor(n/4)\n",
    "    G = get_Euler_digraph(n,k)\n",
    "    test_circuit = compute_Euler_circuit_digraph(G)\n",
    "    if not test_Euler_circuit(G, test_circuit):\n",
    "      raise Exception(f\"Неправильный Эйлеров обход, функция генерации: get_Euler_digraph, n: {n}, k: {k}\")\n",
    "  print(f\"Стресс тест для ориентированных Эйлеровых циклов пройден, max_n: {max_n}, iterations_num: {iterations_num}\")"
   ]
  },
  {
   "cell_type": "markdown",
   "metadata": {},
   "source": [
    "**Пришлось увеличить лимит рекурсии чтобы проходило хотя бы на 200 вершинах.**"
   ]
  },
  {
   "cell_type": "code",
   "execution_count": 27,
   "metadata": {},
   "outputs": [],
   "source": [
    "import sys\n",
    "sys.setrecursionlimit(10000)"
   ]
  },
  {
   "cell_type": "code",
   "execution_count": 28,
   "metadata": {
    "colab": {
     "base_uri": "https://localhost:8080/",
     "height": 160
    },
    "id": "uJvi4ayZbheW",
    "outputId": "d7e5efb2-6d92-4901-fe6a-1960358c00ee"
   },
   "outputs": [
    {
     "name": "stdout",
     "output_type": "stream",
     "text": [
      "Стресс тест для детерминированного поиска мостов пройден!, n: 100, m: 30, iterations_num: 100\n",
      "Стресс тест для рандомизированного поиска мостов пройден!, n: 100, m: 30, iterations_num: 100\n",
      "Стресс тест для арифметики в конечных полях пройден!, p: 2347, iterations_num: 1000\n",
      "Стресс тест для рандомизированного поиска мостов пройден!, n: 100, m: 30, , sort: <function radix_argsort at 0x7f4bdb7dd5e0>, iterations_num: 10\n",
      "Стресс тест для рандомизированного поиска мостов пройден!, n: 100, m: 30, , sort: <function bucket_argsort at 0x7f4bdb51e040>, iterations_num: 10\n",
      "Стресс тест для рандомизированного поиска мостов пройден!, n: 100, m: 30, , sort: <function quick_argsort at 0x7f4bdb51e280>, iterations_num: 10\n",
      "Стресс тест для ориентированных Эйлеровых циклов пройден, max_n: 200, iterations_num: 20\n"
     ]
    }
   ],
   "source": [
    "stress_test_bridges_determ(100,30,100)\n",
    "stress_test_bridges_rand(100,30,100)\n",
    "stress_test_finite_fields(2347, 1000)\n",
    "stress_test_2bridges_rand(100,30,radix_argsort,10)\n",
    "stress_test_2bridges_rand(100,30,bucket_argsort,10)\n",
    "stress_test_2bridges_rand(100,30,quick_argsort,10)\n",
    "#stress_test_Euler_circuit_digraph(1000, 20)\n",
    "stress_test_Euler_circuit_digraph(200, 20)"
   ]
  },
  {
   "cell_type": "markdown",
   "metadata": {
    "id": "IFrOCtsGYI9L"
   },
   "source": [
    "# Юнит тесты"
   ]
  },
  {
   "cell_type": "code",
   "execution_count": 29,
   "metadata": {
    "id": "fMi57s_vXG3a"
   },
   "outputs": [],
   "source": [
    "def finite_fields_unit_tests():\n",
    "  assert(invert_in_Zp_Euclead(6,4) == 0)\n",
    "  assert(invert_in_Zp_Ferma(6,4) == 0)\n",
    "\n",
    "  assert(invert_in_Zp_Euclead(6,2) == 0)\n",
    "  assert(invert_in_Zp_Ferma(6,2) == 0)\n",
    "\n",
    "  assert(invert_in_Zp_Euclead(2347,0) == 0)\n",
    "  assert(invert_in_Zp_Ferma(2347,0) == 0)\n",
    "\n",
    "  assert(invert_in_Zp_Euclead(7,6) == 6)\n",
    "  assert(invert_in_Zp_Ferma(7,6) == 6)\n",
    "\n",
    "  assert(invert_in_Zp_Euclead(2347,2346) == 2346)\n",
    "  assert(invert_in_Zp_Ferma(2347,2346) == 2346)\n",
    "\n",
    "  assert(invert_in_Zp_Euclead(1,0) == 0)\n",
    "  assert(invert_in_Zp_Ferma(1,0) == 0)\n",
    "\n",
    "  assert(invert_in_Zp_Euclead(2,0) == 0)\n",
    "  assert(invert_in_Zp_Ferma(2,0) == 0)\n",
    "\n",
    "  assert(invert_in_Zp_Euclead(2,1) == 1)\n",
    "  assert(invert_in_Zp_Ferma(2,1) == 1)"
   ]
  },
  {
   "cell_type": "code",
   "execution_count": 30,
   "metadata": {
    "id": "WerEDsxjE6Am"
   },
   "outputs": [],
   "source": [
    "def bridges_unit_test(G):\n",
    "  test_bridges_determ = compute_bridges_determ(nx.convert.to_dict_of_lists(G))\n",
    "  test_bridges_rand = compute_bridges_rand(nx.convert.to_dict_of_lists(G))\n",
    "  true_bridges = set(nx.algorithms.bridges(nx.Graph(G)))\n",
    "  determ_diff = list(true_bridges.symmetric_difference(test_bridges_determ))\n",
    "  rand_diff = list(true_bridges.symmetric_difference(test_bridges_rand))\n",
    "  assert len(determ_diff) == 0\n",
    "  assert len(rand_diff) == 0"
   ]
  },
  {
   "cell_type": "code",
   "execution_count": 31,
   "metadata": {
    "id": "dqHC-TYKMWZ-"
   },
   "outputs": [],
   "source": [
    "def two_bridges_unit_test(G, sort_fun):\n",
    "  test_bridges = compute_2bridges_rand(nx.convert.to_dict_of_lists(G), sort_fun)\n",
    "  for edge_group in test_bridges:\n",
    "      for e1 in range(len(edge_group)):\n",
    "        for e2 in range(e1+1,len(edge_group)):\n",
    "          G_with_deleted_2bridge = G.copy()\n",
    "          G_with_deleted_2bridge.remove_edge(*edge_group[e1])\n",
    "          G_with_deleted_2bridge.remove_edge(*edge_group[e2])\n",
    "          assert nx.connected.number_connected_components(G) < nx.connected.number_connected_components(G_with_deleted_2bridge)"
   ]
  },
  {
   "cell_type": "markdown",
   "metadata": {},
   "source": [
    "**При увеличенном лимите рекурсии, юнит тест на эйлеров цикл проходит до 5 измерений. 6-е измерение не получилось, ядро умирает при большом лимите рекурсии.**"
   ]
  },
  {
   "cell_type": "code",
   "execution_count": 32,
   "metadata": {
    "id": "LunUdpLHGBtJ"
   },
   "outputs": [],
   "source": [
    "def Euler_circuit_unit_tests():\n",
    "#  dims = [1, 2, 3, 4, 5, 6]\n",
    "    dims = [1,2,3,4,5]\n",
    "    for dim in dims:\n",
    "        G = get_hypercube_digraph(dim)\n",
    "        test_circuit = compute_Euler_circuit_digraph(G)\n",
    "        assert(test_Euler_circuit(G,test_circuit))"
   ]
  },
  {
   "cell_type": "code",
   "execution_count": 33,
   "metadata": {
    "colab": {
     "base_uri": "https://localhost:8080/",
     "height": 86
    },
    "id": "WRb-MJf9b0p6",
    "outputId": "b4a5c16a-966d-4381-8522-0b338596ca1c"
   },
   "outputs": [
    {
     "name": "stdout",
     "output_type": "stream",
     "text": [
      "Все юнит тесты для арифметики в коенчных полях пройдены успешно!\n",
      "Все юнит тесты для поиска мостов пройдены успешно!\n",
      "Все юнит тесты для поиска 2-мостов пройдены успешно!\n",
      "Все юнит тесты для поиска Эйлеровых циклов пройдены успешно!\n"
     ]
    }
   ],
   "source": [
    "finite_fields_unit_tests()\n",
    "print(\"Все юнит тесты для арифметики в коенчных полях пройдены успешно!\")\n",
    "\n",
    "bridges_unit_test(nx.generators.cycle_graph(10))\n",
    "bridges_unit_test(nx.generators.path_graph(10))\n",
    "bridges_unit_test(nx.generators.empty_graph(10))\n",
    "bridges_unit_test(nx.generators.wheel_graph(10))\n",
    "bridges_unit_test(nx.generators.trivial_graph())\n",
    "bridges_unit_test(nx.generators.balanced_tree(3,3))\n",
    "print(\"Все юнит тесты для поиска мостов пройдены успешно!\")\n",
    "\n",
    "sort_functions = [radix_argsort, bucket_argsort, quick_argsort]\n",
    "for sort_fun in sort_functions:\n",
    "  two_bridges_unit_test(nx.generators.cycle_graph(10), sort_fun)\n",
    "  two_bridges_unit_test(nx.generators.path_graph(10), sort_fun)\n",
    "  two_bridges_unit_test(nx.generators.empty_graph(10), sort_fun)\n",
    "  two_bridges_unit_test(nx.generators.wheel_graph(10), sort_fun)\n",
    "  two_bridges_unit_test(nx.generators.trivial_graph(), sort_fun)\n",
    "  two_bridges_unit_test(nx.generators.balanced_tree(3,3), sort_fun)\n",
    "print(\"Все юнит тесты для поиска 2-мостов пройдены успешно!\")\n",
    "\n",
    "Euler_circuit_unit_tests()\n",
    "print(\"Все юнит тесты для поиска Эйлеровых циклов пройдены успешно!\")"
   ]
  },
  {
   "cell_type": "markdown",
   "metadata": {
    "id": "OaHIW1b_ad02"
   },
   "source": [
    "# Графики"
   ]
  },
  {
   "cell_type": "code",
   "execution_count": 34,
   "metadata": {
    "id": "Wu6eiPL1dZt1"
   },
   "outputs": [],
   "source": [
    "def check_time(f, *args):\n",
    "  start = time.time()\n",
    "  f(*args)\n",
    "  return time.time() - start\n"
   ]
  },
  {
   "cell_type": "code",
   "execution_count": 35,
   "metadata": {
    "id": "QT3suSXzXIcR"
   },
   "outputs": [],
   "source": [
    "def plot_bridges(m_fun, start = 100, step = 100, end = 1000, number_of_retryes = 10):\n",
    "  _x, determ_Gnp_y, determ_Gnm_y, rand_Gnp_y, rand_Gnm_y = [], [], [], [], []\n",
    "  for n in range(start,end,step):\n",
    "    m = m_fun(n)\n",
    "    time_Gnp_determ = 0.\n",
    "    time_Gnp_rand = 0.\n",
    "    time_Gnm_determ = 0.\n",
    "    time_Gnm_rand = 0.\n",
    "    for exp_num in range(number_of_retryes):\n",
    "      g = get_random_simple_Gnp_graph(n,m,exp_num)\n",
    "      time_Gnp_determ += check_time(compute_bridges_determ, g)\n",
    "      time_Gnp_rand += check_time(compute_bridges_rand, g)\n",
    "      g = get_random_simple_Gnm_graph(n,m,exp_num)\n",
    "      time_Gnm_determ += check_time(compute_bridges_determ, g)\n",
    "      time_Gnm_rand += check_time(compute_bridges_rand, g)\n",
    "    time_Gnp_determ /= number_of_retryes\n",
    "    time_Gnp_rand /= number_of_retryes\n",
    "    time_Gnm_determ /= number_of_retryes\n",
    "    time_Gnm_rand /= number_of_retryes\n",
    "    _x.append(n)\n",
    "    determ_Gnp_y.append(time_Gnp_determ)\n",
    "    rand_Gnp_y.append(time_Gnp_rand)\n",
    "    determ_Gnm_y.append(time_Gnm_determ)\n",
    "    rand_Gnm_y.append(time_Gnm_rand)\n",
    "\n",
    "  plt.plot(_x, determ_Gnp_y, label = \"determ Gnp\")\n",
    "  plt.plot(_x, rand_Gnp_y, label = \"rand Gnp\")\n",
    "  plt.plot(_x, determ_Gnm_y, label = \"determ Gnm\")\n",
    "  plt.plot(_x, rand_Gnm_y, label = \"rand Gnm\")\n",
    "  plt.legend(bbox_to_anchor=(1.05, 1), loc='upper left', borderaxespad=0.)\n",
    "  plt.xlabel('number of vertices')\n",
    "  plt.ylabel('time s.')\n",
    "  plt.title(f\"Эксперименты с мостами, start: {start}, step: {step}, end: {end},\\n \\\n",
    "  number of retryes: {number_of_retryes}, edges density: {n/m}\")\n",
    "  #plt.figure(figsize= (1000,1000))\n",
    "  plt.show()"
   ]
  },
  {
   "cell_type": "code",
   "execution_count": 36,
   "metadata": {
    "id": "ph0V_04lfXNi"
   },
   "outputs": [],
   "source": [
    "def plot_2bridges(m_fun, start = 5, step = 5, end = 50, number_of_retryes = 2):\n",
    "  _x = []\n",
    "  quick_Gnp, radix_Gnp, bucket_Gnp, standard_Gnp = [], [], [], []\n",
    "  quick_Gnm, radix_Gnm, bucket_Gnm, standard_Gnm = [], [], [], []\n",
    "\n",
    "  for n in range(start,end,step):\n",
    "    m = m_fun(n)\n",
    "    time_quick_Gnp, time_radix_Gnp, time_bucket_Gnp, time_standard_Gnp = 0., 0., 0., 0.\n",
    "    time_quick_Gnm, time_radix_Gnm, time_bucket_Gnm, time_standard_Gnm = 0., 0., 0., 0.\n",
    "\n",
    "    for exp_num in range(number_of_retryes):\n",
    "      g = get_random_simple_Gnp_graph(n,m,exp_num)\n",
    "      time_quick_Gnp += check_time(compute_2bridges_rand,g,quick_argsort)\n",
    "      time_bucket_Gnp += check_time(compute_2bridges_rand,g,bucket_argsort)\n",
    "      time_radix_Gnp += check_time(compute_2bridges_rand,g,radix_argsort)\n",
    "      time_standard_Gnp += check_time(compute_2bridges_rand,g,np.argsort)\n",
    "\n",
    "      g = get_random_simple_Gnm_graph(n,m,exp_num)\n",
    "      time_quick_Gnm += check_time(compute_2bridges_rand,g,quick_argsort)\n",
    "      time_bucket_Gnm += check_time(compute_2bridges_rand,g,bucket_argsort)\n",
    "      time_radix_Gnm += check_time(compute_2bridges_rand,g,radix_argsort)\n",
    "      time_standard_Gnm += check_time(compute_2bridges_rand,g,np.argsort)\n",
    "\n",
    "    time_quick_Gnp /= number_of_retryes\n",
    "    time_bucket_Gnp /= number_of_retryes\n",
    "    time_radix_Gnp /= number_of_retryes\n",
    "    time_standard_Gnp /= number_of_retryes\n",
    "\n",
    "    time_quick_Gnm /= number_of_retryes\n",
    "    time_bucket_Gnm /= number_of_retryes\n",
    "    time_radix_Gnm /= number_of_retryes\n",
    "    time_standard_Gnm /= number_of_retryes\n",
    "\n",
    "    _x.append(n)\n",
    "\n",
    "    quick_Gnp.append(time_quick_Gnp)\n",
    "    bucket_Gnp.append(time_bucket_Gnp)\n",
    "    radix_Gnp.append(time_radix_Gnp)\n",
    "    standard_Gnp.append(time_standard_Gnp)\n",
    "\n",
    "    quick_Gnm.append(time_quick_Gnm)\n",
    "    bucket_Gnm.append(time_bucket_Gnm)\n",
    "    radix_Gnm.append(time_radix_Gnm)\n",
    "    standard_Gnm.append(time_standard_Gnm)\n",
    "\n",
    "  plt.plot(_x, quick_Gnp, label = \"quick Gnp\")\n",
    "  plt.plot(_x, bucket_Gnp, label = \"bucket Gnp\")\n",
    "  plt.plot(_x, radix_Gnp, label = \"radix Gnp\")\n",
    "  plt.plot(_x, standard_Gnp, label = \"standard Gnp\")\n",
    "\n",
    "  plt.plot(_x, quick_Gnm, label = \"quick Gnm\")\n",
    "  plt.plot(_x, bucket_Gnm, label = \"bucket Gnm\")\n",
    "  plt.plot(_x, radix_Gnm, label = \"radix Gnm\")\n",
    "  plt.plot(_x, standard_Gnm, label = \"standard Gnm\")\n",
    "\n",
    "  plt.legend(bbox_to_anchor=(1.05, 1), loc='upper left', borderaxespad=0.)\n",
    "  plt.xlabel('number of vertices')\n",
    "  plt.ylabel('time s.')\n",
    "  plt.title(f\"Эксперименты с 2-мостами, start: {start}, step: {step}, end: {end},\\n \\\n",
    "  number of retryes: {number_of_retryes}, edges density: {n/m}\")\n",
    "  #plt.figure(figsize= (100000,100000))\n",
    "  plt.show()"
   ]
  },
  {
   "cell_type": "code",
   "execution_count": 37,
   "metadata": {
    "colab": {
     "base_uri": "https://localhost:8080/",
     "height": 327
    },
    "id": "s1qohsHKgPOy",
    "outputId": "4ae95d40-a097-4dfc-9b59-8733c2a0acd5"
   },
   "outputs": [
    {
     "data": {
      "image/png": "[encoded data removed]",
      "text/plain": [
       "<Figure size 432x288 with 1 Axes>"
      ]
     },
     "metadata": {
      "needs_background": "light"
     },
     "output_type": "display_data"
    },
    {
     "name": "stdout",
     "output_type": "stream",
     "text": [
      "Total time: 10.079665899276733\n"
     ]
    }
   ],
   "source": [
    "print(f\"Total time: {check_time(plot_bridges, lambda n: 10*n)}\")"
   ]
  },
  {
   "cell_type": "code",
   "execution_count": 38,
   "metadata": {
    "colab": {
     "base_uri": "https://localhost:8080/",
     "height": 327
    },
    "id": "76072Rr5oKlC",
    "outputId": "67f5a90b-5c23-4105-f472-c7f1c23959c5"
   },
   "outputs": [
    {
     "data": {
      "image/png": "[encoded data removed]",
      "text/plain": [
       "<Figure size 432x288 with 1 Axes>"
      ]
     },
     "metadata": {
      "needs_background": "light"
     },
     "output_type": "display_data"
    },
    {
     "name": "stdout",
     "output_type": "stream",
     "text": [
      "Total time: 0.23767805099487305\n"
     ]
    }
   ],
   "source": [
    "print(f\"Total time: {check_time(plot_2bridges, lambda n: n)}\")"
   ]
  }
 ],
 "metadata": {
  "colab": {
   "collapsed_sections": [],
   "name": "HSE_opt_lab1.ipynb",
   "provenance": []
  },
  "kernelspec": {
   "display_name": "Python 3",
   "language": "python",
   "name": "python3"
  },
  "language_info": {
   "codemirror_mode": {
    "name": "ipython",
    "version": 3
   },
   "file_extension": ".py",
   "mimetype": "text/x-python",
   "name": "python",
   "nbconvert_exporter": "python",
   "pygments_lexer": "ipython3",
   "version": "3.8.3"
  }
 },
 "nbformat": 4,
 "nbformat_minor": 1
}
