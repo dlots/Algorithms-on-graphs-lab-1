{
 "cells": [
  {
   "cell_type": "code",
   "execution_count": 1,
   "metadata": {},
   "outputs": [],
   "source": [
    "def adj_list_to_byte(adj_list):\n",
    "    adj_list_string = ''\n",
    "    for vertex in adj_list:\n",
    "        adj_list_string+='('\n",
    "        for adjacent in adj_list[vertex]:\n",
    "            adj_list_string+=str(adjacent)+','\n",
    "        adj_list_string=adj_list_string[:-1]+')'\n",
    "    return adj_list_string.encode('utf-8')"
   ]
  },
  {
   "cell_type": "code",
   "execution_count": 2,
   "metadata": {},
   "outputs": [],
   "source": [
    "test_list = {0: [1, 3, 8, 9],\n",
    " 1: [0, 7, 10],\n",
    " 2: [11],\n",
    " 3: [0, 4, 8],\n",
    " 4: [3, 5, 6, 8, 11],\n",
    " 5: [4],\n",
    " 6: [4, 11],\n",
    " 7: [1, 8],\n",
    " 8: [0, 3, 4, 7],\n",
    " 9: [0],\n",
    " 10: [1],\n",
    " 11: [2, 4, 6]}"
   ]
  },
  {
   "cell_type": "code",
   "execution_count": 3,
   "metadata": {},
   "outputs": [],
   "source": [
    "test = adj_list_to_byte(test_list)"
   ]
  },
  {
   "cell_type": "code",
   "execution_count": 4,
   "metadata": {},
   "outputs": [],
   "source": [
    "import ctypes"
   ]
  },
  {
   "cell_type": "code",
   "execution_count": 5,
   "metadata": {},
   "outputs": [],
   "source": [
    "bridge = ctypes.CDLL('./BridgesDeterm.so')\n",
    "bridge.compute_bridges_determ.restype = ctypes.c_char_p\n",
    "bridge.compute_bridges_determ.argtypes = [ctypes.c_char_p, ctypes.c_uint64, ]"
   ]
  },
  {
   "cell_type": "code",
   "execution_count": 6,
   "metadata": {},
   "outputs": [],
   "source": [
    "res = bridge.compute_bridges_determ(test, len(test))"
   ]
  },
  {
   "cell_type": "code",
   "execution_count": 7,
   "metadata": {},
   "outputs": [
    {
     "data": {
      "text/plain": [
       "b'[(4,5),(11,2),(1,10),(0,9)]'"
      ]
     },
     "execution_count": 7,
     "metadata": {},
     "output_type": "execute_result"
    }
   ],
   "source": [
    "res"
   ]
  },
  {
   "cell_type": "code",
   "execution_count": 8,
   "metadata": {},
   "outputs": [
    {
     "data": {
      "text/plain": [
       "76"
      ]
     },
     "execution_count": 8,
     "metadata": {},
     "output_type": "execute_result"
    }
   ],
   "source": [
    "len(test)"
   ]
  },
  {
   "cell_type": "code",
   "execution_count": 9,
   "metadata": {},
   "outputs": [
    {
     "name": "stdout",
     "output_type": "stream",
     "text": [
      "[(4,5),(11,2),(1,10),(0,9)]\n"
     ]
    }
   ],
   "source": [
    "print(res.decode('utf-8'))"
   ]
  },
  {
   "cell_type": "code",
   "execution_count": null,
   "metadata": {},
   "outputs": [],
   "source": []
  }
 ],
 "metadata": {
  "kernelspec": {
   "display_name": "Python 3",
   "language": "python",
   "name": "python3"
  },
  "language_info": {
   "codemirror_mode": {
    "name": "ipython",
    "version": 3
   },
   "file_extension": ".py",
   "mimetype": "text/x-python",
   "name": "python",
   "nbconvert_exporter": "python",
   "pygments_lexer": "ipython3",
   "version": "3.8.5"
  }
 },
 "nbformat": 4,
 "nbformat_minor": 4
}
