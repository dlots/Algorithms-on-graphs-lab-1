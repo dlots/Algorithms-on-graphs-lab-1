{
 "cells": [
  {
   "cell_type": "code",
   "execution_count": 1,
   "metadata": {
    "colab": {
     "base_uri": "https://localhost:8080/",
     "height": 34
    },
    "id": "eEGdYzlU4SmG",
    "outputId": "da84523f-196c-435e-d0d7-0a7431d5d650"
   },
   "outputs": [],
   "source": [
    "import ctypes as C"
   ]
  },
  {
   "cell_type": "code",
   "execution_count": 2,
   "metadata": {},
   "outputs": [],
   "source": [
    "bucket = C.CDLL('./src/BucketSort/BucketSort.so')\n",
    "bucket.bucket_sort.restype = C.POINTER(C.c_uint64)\n",
    "bucket.bucket_sort.argtypes = [C.POINTER(C.c_uint64), C.c_uint64, ]\n",
    "\n",
    "radix = C.CDLL('./src/RadixSort/RadixSort.so')\n",
    "radix.radix_sort.restype = C.POINTER(C.c_uint64)\n",
    "radix.radix_sort.argtypes = [C.POINTER(C.c_uint64), C.c_uint64, ]\n",
    "\n",
    "quick = C.CDLL('./src/QuickSort/QuickSort.so')\n",
    "quick.c_quick_sort.restype = C.POINTER(C.c_uint64)\n",
    "quick.c_quick_sort.argtypes = [C.POINTER(C.c_uint64), C.c_uint64, ]"
   ]
  },
  {
   "cell_type": "code",
   "execution_count": 3,
   "metadata": {
    "id": "lfxzEQsYfs-C"
   },
   "outputs": [],
   "source": [
    "# поразрядная сортировка\n",
    "# возвращает итоговую перестановку эелементов массива A\n",
    "# для того, чтобы можно было переставить элементы в любом другом массиве\n",
    "def radix_argsort(A):\n",
    "    arr = (C.c_uint64 * len(A))(*A)\n",
    "    res = radix.radix_sort(C.cast(C.byref(arr), C.POINTER(C.c_uint64)), len(A))\n",
    "    return [res[i] for i in range(len(A))]"
   ]
  },
  {
   "cell_type": "code",
   "execution_count": 4,
   "metadata": {
    "id": "kaW51gQBf99y"
   },
   "outputs": [],
   "source": [
    "# карманная сортировка\n",
    "# возвращает итоговую перестановку эелементов массива A\n",
    "# для того, чтобы можно было переставить элементы в любом другом массиве\n",
    "def bucket_argsort(A):\n",
    "    arr = (C.c_uint64 * len(A))(*A)\n",
    "    res = bucket.bucket_sort(C.cast(C.byref(arr), C.POINTER(C.c_uint64)), len(A))\n",
    "    return [res[i] for i in range(len(A))]"
   ]
  },
  {
   "cell_type": "code",
   "execution_count": 5,
   "metadata": {
    "id": "2Xrh676Tf-WC"
   },
   "outputs": [],
   "source": [
    "# быстрая сортировка\n",
    "# возвращает итоговую перестановку эелементов массива A\n",
    "# для того, чтобы можно было переставить элементы в любом другом массиве\n",
    "def quick_argsort(A):\n",
    "    arr = (C.c_uint64 * len(A))(*A)\n",
    "    res = quick.c_quick_sort(C.cast(C.byref(arr), C.POINTER(C.c_uint64)), len(A))\n",
    "    return [res[i] for i in range(len(A))]"
   ]
  },
  {
   "cell_type": "code",
   "execution_count": 6,
   "metadata": {
    "id": "3CssyQPh_L2i"
   },
   "outputs": [],
   "source": [
    "# детерминированный алгоритм для поиска мостов\n",
    "# на вход поступает граф представленный списком смежности\n",
    "# саписок представлен как словарь(хеш-таблица) списков\n",
    "# выход представляет собой список ребер, являющихся мостами \n",
    "#def compute_bridges_determ(adj_list):\n",
    "#    adj_list_char_str = adj_list_to_byte(adj_list)\n",
    "#    result = bridge.compute_bridges_determ(adj_list_char_str, len(adj_list_char_str))\n",
    "#    return result.decode('utf-8')\n",
    "\n",
    "class DetermBridges:\n",
    "    def __init__(self):\n",
    "        self.timer = 0\n",
    "        self.history = []\n",
    "        self.bridges = []\n",
    "        self.colors = []\n",
    "        self.M = []\n",
    "        self.entry = []\n",
    "        self.adj_list = {}\n",
    "    \n",
    "    def bridges_determ_dfs(self, vertex):\n",
    "        self.colors[vertex] = 'gray'\n",
    "        self.history.append(vertex)\n",
    "        self.timer += 1\n",
    "        self.entry[vertex] = self.timer\n",
    "        for adjacent in self.adj_list[vertex]:\n",
    "            if (self.colors[adjacent] == 'white'):\n",
    "                self.bridges_determ_dfs(adjacent)\n",
    "                self.M[vertex] = min(self.M[vertex], self.M[adjacent])\n",
    "                if (self.M[adjacent] > self.entry[vertex]):\n",
    "                    if (vertex < adjacent):\n",
    "                        self.bridges.append((vertex, adjacent))\n",
    "                    else:\n",
    "                        self.bridges.append((adjacent, vertex))\n",
    "            elif len(self.history) < 2 or self.history[-2] != adjacent:\n",
    "                self.M[vertex] = min(self.M[vertex], self.entry[adjacent])\n",
    "        self.colors[vertex] = 'black'\n",
    "        self.history.pop()\n",
    "\n",
    "    def determ_bridges(self, adj_list):\n",
    "        self.timer = 0\n",
    "        self.history = []\n",
    "        self.bridges = []\n",
    "        self.colors = ['white' for i in adj_list]\n",
    "        self.M = [float('inf') for i in adj_list]\n",
    "        self.entry = [0 for i in adj_list]\n",
    "        self.adj_list = adj_list\n",
    "        for i in adj_list:\n",
    "            if self.colors[i] == 'white':\n",
    "                self.bridges_determ_dfs(i)\n",
    "        return self.bridges\n",
    "    \n",
    "def compute_bridges_determ(adj_list):\n",
    "    determ = DetermBridges()\n",
    "    return determ.determ_bridges(adj_list)"
   ]
  },
  {
   "cell_type": "code",
   "execution_count": 7,
   "metadata": {},
   "outputs": [],
   "source": [
    "import numpy as np\n",
    "import random as rd\n",
    "\n",
    "class RandomBridges:\n",
    "\n",
    "    def __init__(self):\n",
    "        self.adj_list = {}\n",
    "        self.bridges = []\n",
    "        self.edges = []\n",
    "        self.colors = []\n",
    "        self.history = []\n",
    "        self.samples = {}\n",
    "        self.EDGE = 0\n",
    "        self.SAMPLE = 1\n",
    "\n",
    "    def sampling_dfs(self, vertex):\n",
    "        self.colors[vertex] = 'gray'\n",
    "        self.history.append(vertex)\n",
    "        for adjacent in self.adj_list[vertex]:\n",
    "            if self.colors[adjacent] == 'white':\n",
    "                self.sampling_dfs(adjacent)\n",
    "            elif len(self.history) < 2 or self.history[-2] != adjacent:\n",
    "                rand = np.uint64(rd.randint(0, np.iinfo(np.uint64).max))\n",
    "                self.samples[vertex][adjacent] = rand;\n",
    "                self.samples[adjacent][vertex] = rand;\n",
    "        self.colors[vertex] = 'black';\n",
    "        self.history.pop()\n",
    "\n",
    "        if len(self.history) > 0:\n",
    "            parent = self.history[-1]\n",
    "            parent_edge_weight = np.uint64(0)\n",
    "            for adjacent in self.adj_list[vertex]:\n",
    "                if (adjacent != parent):\n",
    "                    parent_edge_weight ^= self.samples[vertex][adjacent]\n",
    "            self.samples[vertex][parent] = parent_edge_weight\n",
    "            self.samples[parent][vertex] = parent_edge_weight\n",
    "        \n",
    "        \n",
    "    def launch_sampling(self):\n",
    "        self.colors = ['white' for i in self.adj_list]\n",
    "        for vertex in self.adj_list:\n",
    "            if self.colors[vertex] == 'white':\n",
    "                self.sampling_dfs(vertex)\n",
    "        \n",
    "    def find_bridges(self, adj_list):\n",
    "        self.adj_list = adj_list\n",
    "        for i in range(len(adj_list)):\n",
    "            self.samples[i] = {}\n",
    "        self.launch_sampling()\n",
    "        for first_key in self.adj_list:\n",
    "            for second_key in self.adj_list[first_key]:\n",
    "                if (second_key, first_key) not in self.bridges and self.samples[first_key][second_key] == 0:\n",
    "                    self.bridges.append((first_key, second_key))\n",
    "        return self.bridges\n",
    "    \n",
    "    def find_2bridges(self, adj_list, sort_fun):\n",
    "        self.adj_list = adj_list\n",
    "        for i in range(len(adj_list)):\n",
    "            self.samples[i] = {}\n",
    "        self.launch_sampling()\n",
    "        for first_key in self.adj_list:\n",
    "            for second_key in self.adj_list[first_key]:\n",
    "                if (second_key, first_key) not in [edge[self.EDGE] for edge in self.edges]:\n",
    "                    self.edges.append([(first_key, second_key), self.samples[first_key][second_key]])\n",
    "        samples_list = [edge[self.SAMPLE] for edge in self.edges]\n",
    "        sorted_args = sort_fun(samples_list)\n",
    "        cluster_size = 0\n",
    "        current_cluster = 0\n",
    "        for i in range(len(sorted_args) - 1):\n",
    "            cluster_size+=1\n",
    "            if self.edges[sorted_args[i]][self.SAMPLE] != self.edges[sorted_args[i+1]][self.SAMPLE]:\n",
    "                if (cluster_size > 1):\n",
    "                    self.bridges.append([])\n",
    "                    j = i - cluster_size + 1\n",
    "                    while (j < i):\n",
    "                        self.bridges[current_cluster].append((self.edges[sorted_args[j]][self.EDGE]))\n",
    "                        j+=1\n",
    "                    cluster_size = 0\n",
    "                    current_cluster+=1\n",
    "        return self.bridges"
   ]
  },
  {
   "cell_type": "code",
   "execution_count": 8,
   "metadata": {
    "id": "bwuVGx16C0J6"
   },
   "outputs": [],
   "source": [
    "# рандомизированный алгоритм для поиска мостов\n",
    "# на вход поступает граф представленный списком смежности\n",
    "# саписок представлен как словарь(хеш-таблица) списков \n",
    "# выход представляет собой список ребер, являющихся мостами с большой вероятностью\n",
    "def compute_bridges_rand(adj_list):\n",
    "    rand = RandomBridges()\n",
    "    return rand.find_bridges(adj_list)"
   ]
  },
  {
   "cell_type": "code",
   "execution_count": 9,
   "metadata": {
    "id": "Bimj4itwJ0NR"
   },
   "outputs": [],
   "source": [
    "# рандомизированный алгоритм для поиска 2-мостов\n",
    "#\n",
    "# на вход поступает граф представленный списком смежности и алгоритм сортировки для меток на ребрах\n",
    "# саписок представлен как словарь(хеш-таблица) списков \n",
    "#\n",
    "# выходом алгоритма является список списков ребер\n",
    "# в каждом списке любая пара ребер должна с высокой вероятностью образовывать 2-мост\n",
    "# например, если выходом является спискок [[e1, e2, e3],[e4, e5]]\n",
    "# то с высокой вероятностью 2-мостами будут пары ребер: (e1,e2), (e1,e3), (e2,e3), (e4,e5)\n",
    "# ребра здесь это пары вершин типа e1 = (1,2)\n",
    "def compute_2bridges_rand(adj_list, sort_fun):\n",
    "    rand = RandomBridges()\n",
    "    return rand.find_2bridges(adj_list, sort_fun)"
   ]
  },
  {
   "cell_type": "code",
   "execution_count": 10,
   "metadata": {
    "id": "dCtrqokbUmvf"
   },
   "outputs": [],
   "source": [
    "def DFS_recursive(graph, S, colors, black_order):\n",
    "    colors[S] = 'g'\n",
    "    \n",
    "    for adjacent in graph[S]:\n",
    "        if (colors[adjacent] == 'w'):\n",
    "            DFS_recursive(graph, adjacent, colors, black_order)\n",
    "            \n",
    "    colors[S] = 'b'\n",
    "    black_order.append(S)\n",
    "    \n",
    "    \n",
    "def DFS_wrapper(graph):\n",
    "    colors = []\n",
    "    black_order = []\n",
    "    \n",
    "    for i in range(len(graph)):\n",
    "        colors.append('w')\n",
    "    DFS_recursive(graph, next(iter(graph)), colors, black_order)\n",
    "    return black_order\n",
    "    \n",
    "    \n",
    "def convert_to_edge_graph(graph):\n",
    "    edges_list = []\n",
    "    \n",
    "    for vertex in graph:\n",
    "        for adjacent in graph[vertex]:\n",
    "            edges_list.append((vertex, adjacent))\n",
    "            \n",
    "    edge_graph = {}\n",
    "    \n",
    "    for edge in range(len(edges_list)):\n",
    "        edge_graph[edge] = []\n",
    "        for potential_adjacent in range(len(edges_list)):\n",
    "            if edges_list[edge][1] == edges_list[potential_adjacent][0]:\n",
    "                edge_graph[edge].append(potential_adjacent)\n",
    "                \n",
    "    return edges_list, edge_graph\n",
    "# функция вычисляющая эйлеров обход для данного ориентированного графа G \n",
    "# цикл кодируется списком ребер, например:\n",
    "# (1,2), (2,4), (4, 7), (7,1)\n",
    "#\n",
    "def compute_Euler_circuit_digraph(adj_list):\n",
    "  # тут должен быть Ваш код\n",
    "  #G = nx.DiGraph(adj_list)\n",
    "  #return list(nx.algorithms.eulerian_circuit(G))\n",
    "    graph = adj_list\n",
    "    edges_list, edge_graph = convert_to_edge_graph(graph)\n",
    "    cycle = []\n",
    "    for edge_index in DFS_wrapper(edge_graph):\n",
    "        cycle.insert(0, edges_list[edge_index])\n",
    "    return cycle\n",
    "\n",
    "# функция вычисляющая эйлеров обход для данного простого графа G \n",
    "# цикл кодируется списком ребер, например:\n",
    "# (1,2), (2,4), (4, 7), (7,1)\n",
    "#\n",
    "#def compute_Euler_circuit_simple(adj_list):\n",
    "#  # тут должен быть Ваш код\n",
    "#  G = nx.Graph(adj_list)\n",
    "#  return list(nx.algorithms.eulerian_circuit(G))"
   ]
  },
  {
   "cell_type": "code",
   "execution_count": 11,
   "metadata": {},
   "outputs": [],
   "source": [
    "invert = C.CDLL('./so/Invert.so')\n",
    "\n",
    "invert.invert_in_Zp_Euclead.restype = C.c_uint64\n",
    "invert.invert_in_Zp_Euclead.argtypes = [C.c_uint64, C.c_uint64, ]\n",
    "\n",
    "invert.invert_in_Zp_Ferma.restype = C.c_uint64\n",
    "invert.invert_in_Zp_Ferma.argtypes = [C.c_uint64, C.c_uint64, ]"
   ]
  },
  {
   "cell_type": "code",
   "execution_count": 12,
   "metadata": {
    "id": "lmhOvc-rNS0c"
   },
   "outputs": [],
   "source": [
    "# эта функция инвертирует x в Zp с помощью алгоритма Евклида\n",
    "# выходом является целое число y, такое что\n",
    "# 1) 0 < y < p \n",
    "# 2) (xy) mod p = 1 \n",
    "# если число невозможно инвертировать, функция возвращает 0\n",
    "def invert_in_Zp_Euclead(p,x):\n",
    "    return invert.invert_in_Zp_Euclead(p, x)"
   ]
  },
  {
   "cell_type": "code",
   "execution_count": 13,
   "metadata": {
    "id": "e5XLlM4oOGcY"
   },
   "outputs": [],
   "source": [
    "# эта функция инвертирует x в Zp с помощью малой теоремы Ферма и алгоритма быстрого возведения в степень\n",
    "# выходом является целое число y, такое что\n",
    "# 1) 0 < y < p \n",
    "# 2) (xy) mod p = 1 \n",
    "# если число невозможно инвертировать, функция возвращает 0\n",
    "def invert_in_Zp_Ferma(p,x):\n",
    "    return invert.invert_in_Zp_Ferma(p, x)"
   ]
  }
 ],
 "metadata": {
  "colab": {
   "collapsed_sections": [],
   "name": "HSE_opt_lab1.ipynb",
   "provenance": []
  },
  "kernelspec": {
   "display_name": "Python 3",
   "language": "python",
   "name": "python3"
  },
  "language_info": {
   "codemirror_mode": {
    "name": "ipython",
    "version": 3
   },
   "file_extension": ".py",
   "mimetype": "text/x-python",
   "name": "python",
   "nbconvert_exporter": "python",
   "pygments_lexer": "ipython3",
   "version": "3.8.5"
  }
 },
 "nbformat": 4,
 "nbformat_minor": 1
}
